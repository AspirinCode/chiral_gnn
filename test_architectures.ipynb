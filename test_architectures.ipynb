{
 "cells": [
  {
   "cell_type": "code",
   "execution_count": null,
   "metadata": {},
   "outputs": [],
   "source": [
    "from model.gnn import GNN\n",
    "from model.parsing import modify_train_args\n",
    "from features.featurization import construct_loader\n",
    "\n",
    "from argparse import Namespace\n",
    "\n",
    "args = Namespace()\n",
    "args.data_path = 'data/d4_docking/d4_docking.csv'\n",
    "args.split_path = 'data/d4_docking/diff5/split0.npy'\n",
    "args.num_workers = 2\n",
    "args.hidden_size = 100\n",
    "args.depth = 3\n",
    "args.dropout = 0.2\n",
    "args.batch_size = 2\n",
    "args.gnn_type = 'gin'\n",
    "args.graph_pool = 'set2set'\n",
    "args.chiral_features = False\n",
    "args.message = 'tetra_permute'"
   ]
  },
  {
   "cell_type": "code",
   "execution_count": null,
   "metadata": {},
   "outputs": [],
   "source": [
    "gnn_types = ['gin', 'gcn', 'dmpnn']\n",
    "messages = ['sum', 'tetra_pd', 'tetra_permute', 'tetra_permute_concat']\n",
    "graph_pools = ['sum', 'mean', 'max', 'attn', 'set2set']"
   ]
  },
  {
   "cell_type": "code",
   "execution_count": null,
   "metadata": {},
   "outputs": [],
   "source": [
    "for _ in range(10):\n",
    "    for gnn_type in gnn_types:\n",
    "        for message in messages:\n",
    "            for graph_pool in graph_pools:\n",
    "\n",
    "                setattr(args, 'gnn_type', gnn_type)\n",
    "                setattr(args, 'message', message)\n",
    "                setattr(args, 'graph_pool', graph_pool)\n",
    "\n",
    "                modify_train_args(args)\n",
    "                loader = construct_loader(args, 'train')\n",
    "                gnn = GNN(args, loader.dataset.num_node_features, loader.dataset.num_edge_features)\n",
    "\n",
    "                for data in loader:\n",
    "                    break\n",
    "\n",
    "                status = f'gnn_type: {gnn_type}, message: {message}, graph_pool: {graph_pool}; '\n",
    "                print(status)\n",
    "    #             try:\n",
    "    #                 out = gnn(data)\n",
    "    #                 print(status + 'success')\n",
    "    #             except Exception as e:\n",
    "    #                 print(status + 'fail')\n",
    "    #                 print(e)"
   ]
  },
  {
   "cell_type": "code",
   "execution_count": null,
   "metadata": {},
   "outputs": [],
   "source": [
    "modify_train_args(args)\n",
    "loader = construct_loader(args, 'train')\n",
    "gnn = GNN(args, loader.dataset.num_node_features, loader.dataset.num_edge_features)\n",
    "\n",
    "for data in loader:\n",
    "    break\n",
    "    \n",
    "gnn(data)"
   ]
  },
  {
   "cell_type": "code",
   "execution_count": null,
   "metadata": {},
   "outputs": [],
   "source": [
    "import networkx as nx\n",
    "import matplotlib.pyplot as plt \n",
    "from torch_geometric.utils import to_networkx\n",
    "\n",
    "G = to_networkx(data)\n",
    "\n",
    "plt.figure(figsize=(8,8))\n",
    "nx.draw_spring(G, with_labels=True)"
   ]
  },
  {
   "cell_type": "code",
   "execution_count": null,
   "metadata": {},
   "outputs": [],
   "source": [
    "import torch\n",
    "import torch.nn as nn\n",
    "from torch_geometric.utils import degree\n",
    "from torch_geometric.utils import to_dense_adj\n",
    "\n",
    "x = data.x\n",
    "edge_attr = data.edge_attr\n",
    "edge_index = data.edge_index\n",
    "parity_atoms= data.parity_atoms\n",
    "tetra_ids = parity_atoms.nonzero().squeeze()\n",
    "\n",
    "lin1 = nn.Linear(data.num_node_features, 100)\n",
    "lin2 = nn.Linear(data.num_edge_features, 100)\n",
    "\n",
    "x = lin1(x)\n",
    "edge_attr = lin2(edge_attr)"
   ]
  },
  {
   "cell_type": "code",
   "execution_count": null,
   "metadata": {},
   "outputs": [],
   "source": [
    "data.x.shape"
   ]
  },
  {
   "cell_type": "code",
   "execution_count": 1,
   "metadata": {},
   "outputs": [
    {
     "ename": "ImportError",
     "evalue": "cannot import name 'render_pymol' from 'model.training' (/home/lagnajit/Dropbox (MIT)/Linux/PycharmProjects/gnn/model/training.py)",
     "output_type": "error",
     "traceback": [
      "\u001b[0;31m---------------------------------------------------------------------------\u001b[0m",
      "\u001b[0;31mImportError\u001b[0m                               Traceback (most recent call last)",
      "\u001b[0;32m<ipython-input-1-b595687248dd>\u001b[0m in \u001b[0;36m<module>\u001b[0;34m\u001b[0m\n\u001b[0;32m----> 1\u001b[0;31m \u001b[0;32mfrom\u001b[0m \u001b[0mmodel\u001b[0m\u001b[0;34m.\u001b[0m\u001b[0mtraining\u001b[0m \u001b[0;32mimport\u001b[0m \u001b[0mrender_pymol\u001b[0m\u001b[0;34m\u001b[0m\u001b[0;34m\u001b[0m\u001b[0m\n\u001b[0m",
      "\u001b[0;31mImportError\u001b[0m: cannot import name 'render_pymol' from 'model.training' (/home/lagnajit/Dropbox (MIT)/Linux/PycharmProjects/gnn/model/training.py)"
     ]
    }
   ],
   "source": [
    "from model.training import render_pymol"
   ]
  },
  {
   "cell_type": "code",
   "execution_count": 2,
   "metadata": {},
   "outputs": [
    {
     "name": "stdout",
     "output_type": "stream",
     "text": [
      "/home/lagnajit/Dropbox (MIT)/Linux/PycharmProjects/gnn\n"
     ]
    }
   ],
   "source": [
    "import os\n",
    "print(os.getcwd())"
   ]
  },
  {
   "cell_type": "code",
   "execution_count": null,
   "metadata": {},
   "outputs": [],
   "source": []
  }
 ],
 "metadata": {
  "kernelspec": {
   "display_name": "Python 3",
   "language": "python",
   "name": "python3"
  },
  "language_info": {
   "codemirror_mode": {
    "name": "ipython",
    "version": 3
   },
   "file_extension": ".py",
   "mimetype": "text/x-python",
   "name": "python",
   "nbconvert_exporter": "python",
   "pygments_lexer": "ipython3",
   "version": "3.7.7"
  }
 },
 "nbformat": 4,
 "nbformat_minor": 1
}
